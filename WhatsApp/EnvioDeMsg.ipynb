{
 "cells": [
  {
   "cell_type": "code",
   "execution_count": 29,
   "metadata": {},
   "outputs": [
    {
     "name": "stderr",
     "output_type": "stream",
     "text": [
      "[NbConvertApp] Converting notebook EnvioDeMsg.ipynb to python\n",
      "[NbConvertApp] Writing 2358 bytes to EnvioDeMsg.py\n"
     ]
    }
   ],
   "source": [
    "!jupyter nbconvert EnvioDeMsg.ipynb --to python"
   ]
  },
  {
   "cell_type": "code",
   "execution_count": 27,
   "metadata": {},
   "outputs": [
    {
     "name": "stdout",
     "output_type": "stream",
     "text": [
      "Erro ao enviar mensagem para Homao: Message: \n",
      "Stacktrace:\n",
      "RemoteError@chrome://remote/content/shared/RemoteError.sys.mjs:8:8\n",
      "WebDriverError@chrome://remote/content/shared/webdriver/Errors.sys.mjs:188:5\n",
      "NoSuchElementError@chrome://remote/content/shared/webdriver/Errors.sys.mjs:506:5\n",
      "dom.find/</<@chrome://remote/content/shared/DOM.sys.mjs:132:16\n",
      "\n"
     ]
    }
   ],
   "source": [
    "from selenium import webdriver\n",
    "from selenium.webdriver.common.keys import Keys\n",
    "import time\n",
    "import urllib\n",
    "from pathlib import Path\n",
    "from selenium.webdriver.common.by import By\n",
    "import pandas as pd\n",
    "from selenium.webdriver.support.ui import WebDriverWait\n",
    "from selenium.webdriver.support import expected_conditions as EC\n",
    "\n",
    "\n",
    "caminhoex = str(Path.home() / \"Downloads\\Automação Wpp May\\Posvendas.xlsx\")\n",
    "contatos_df = pd.read_excel(caminhoex)\n",
    "contatos_df['Numero'] = contatos_df['Numero'].str.replace('(', '55')\n",
    "contatos_df['Numero'] = contatos_df['Numero'].str.replace(')', '')\n",
    "contatos_df['Numero'] = contatos_df['Numero'].str.replace('-', '')\n",
    "contatos_df['Numero'] = contatos_df['Numero'].str.replace(' ', '')\n",
    "\n",
    "navegador = webdriver.Firefox()\n",
    "navegador.get(\"https://web.whatsapp.com/\")\n",
    "\n",
    "# Aguarde até que o usuário faça login manualmente no WhatsApp Web\n",
    "input(\"Faça o login manualmente no WhatsApp Web e pressione Enter quando estiver pronto...\")\n",
    "\n",
    "# Agora você pode continuar com a automação\n",
    "for i, mensagem in enumerate(contatos_df['Mensagem']):\n",
    "    pessoa = contatos_df.loc[i, \"Pessoa\"]\n",
    "    numero = contatos_df.loc[i, \"Numero\"]\n",
    "    texto = urllib.parse.quote(f\"Oiêêê {pessoa}! {mensagem}\")\n",
    "    link = f\"https://web.whatsapp.com/send?phone={numero}&text={texto}\"\n",
    "    navegador.get(link)\n",
    "    \n",
    "    time.sleep(5)  # Aguarde um momento para que a página seja carregada completamente\n",
    "    \n",
    "    try:\n",
    "        wait = WebDriverWait(navegador, 20)\n",
    "        element = wait.until(EC.presence_of_element_located((By.XPATH, \"/html/body/div[1]/div/div/div[5]/div/footer/div[1]/div/span[2]/div/div[2]/div[2]/button\")))\n",
    "        # element.click()\n",
    "        navegador.execute_script(\"arguments[0].click();\", element)\n",
    "    except Exception as e:\n",
    "        wait = WebDriverWait(navegador, 10)\n",
    "        element = wait.until(EC.presence_of_element_located((By.XPATH, \"/html/body/div[1]/div/span[2]/div/span/div/div/div/div/div/div[2]/div/button\")))\n",
    "        # element.click()\n",
    "        navegador.execute_script(\"arguments[0].click();\", element)\n",
    "        print(f\"Erro ao enviar mensagem para {pessoa}: {str(e)}\")\n",
    "\n",
    "    time.sleep(2)  # Aguarde um momento antes de prosseguir para o próximo contato\n",
    "\n",
    "# Feche o navegador após o término da automação\n",
    "navegador.quit()"
   ]
  },
  {
   "cell_type": "code",
   "execution_count": 30,
   "metadata": {},
   "outputs": [
    {
     "name": "stdout",
     "output_type": "stream",
     "text": [
      "Note: you may need to restart the kernel to use updated packages.\n"
     ]
    },
    {
     "name": "stderr",
     "output_type": "stream",
     "text": [
      "Traceback (most recent call last):\n",
      "  File \"c:\\Users\\Gui\\Nova pasta\\lib\\runpy.py\", line 196, in _run_module_as_main\n",
      "    return _run_code(code, main_globals, None,\n",
      "  File \"c:\\Users\\Gui\\Nova pasta\\lib\\runpy.py\", line 86, in _run_code\n",
      "    exec(code, run_globals)\n",
      "  File \"c:\\Users\\Gui\\Nova pasta\\lib\\site-packages\\pip\\__main__.py\", line 29, in <module>\n",
      "    from pip._internal.cli.main import main as _main\n",
      "  File \"c:\\Users\\Gui\\Nova pasta\\lib\\site-packages\\pip\\_internal\\cli\\main.py\", line 9, in <module>\n",
      "    from pip._internal.cli.autocompletion import autocomplete\n",
      "  File \"c:\\Users\\Gui\\Nova pasta\\lib\\site-packages\\pip\\_internal\\cli\\autocompletion.py\", line 10, in <module>\n",
      "    from pip._internal.cli.main_parser import create_main_parser\n",
      "  File \"c:\\Users\\Gui\\Nova pasta\\lib\\site-packages\\pip\\_internal\\cli\\main_parser.py\", line 9, in <module>\n",
      "    from pip._internal.build_env import get_runnable_pip\n",
      "  File \"c:\\Users\\Gui\\Nova pasta\\lib\\site-packages\\pip\\_internal\\build_env.py\", line 6, in <module>\n",
      "    import pathlib\n",
      "  File \"c:\\Users\\Gui\\Nova pasta\\lib\\site-packages\\pathlib.py\", line 10, in <module>\n",
      "    from collections import Sequence\n",
      "ImportError: cannot import name 'Sequence' from 'collections' (c:\\Users\\Gui\\Nova pasta\\lib\\collections\\__init__.py)\n"
     ]
    }
   ],
   "source": [
    "pip install pyinstaller"
   ]
  }
 ],
 "metadata": {
  "kernelspec": {
   "display_name": "base",
   "language": "python",
   "name": "python3"
  },
  "language_info": {
   "codemirror_mode": {
    "name": "ipython",
    "version": 3
   },
   "file_extension": ".py",
   "mimetype": "text/x-python",
   "name": "python",
   "nbconvert_exporter": "python",
   "pygments_lexer": "ipython3",
   "version": "3.10.9"
  },
  "orig_nbformat": 4
 },
 "nbformat": 4,
 "nbformat_minor": 2
}
